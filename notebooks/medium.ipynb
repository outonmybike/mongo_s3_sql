{
 "cells": [
  {
   "cell_type": "code",
   "execution_count": null,
   "id": "1314c907",
   "metadata": {
    "vscode": {
     "languageId": "plaintext"
    }
   },
   "outputs": [],
   "source": [
    "# Import required libraries\n",
    "from pyspark.sql import SparkSession\n",
    "\n",
    "# Configure Spark session\n",
    "spark = SparkSession.builder \\\n",
    "    .appName(\"IcebergTableCreation\") \\\n",
    "    .config(\"spark.sql.catalog.demo\", \"org.apache.iceberg.spark.SparkCatalog\") \\\n",
    "    .config(\"spark.sql.catalog.demo.type\", \"rest\") \\\n",
    "    .config(\"spark.sql.catalog.demo.uri\", \"http://iceberg-rest:8181\") \\\n",
    "    .config(\"spark.sql.catalog.demo.io-impl\", \"org.apache.iceberg.aws.s3.S3FileIO\") \\\n",
    "    .config(\"spark.sql.catalog.demo.warehouse\", \"s3://warehouse/\") \\\n",
    "    .config(\"spark.sql.catalog.demo.s3.endpoint\", \"http://minio:9000\") \\\n",
    "    .config(\"spark.sql.extensions\", \"org.apache.iceberg.spark.extensions.IcebergSparkSessionExtensions\") \\\n",
    "    .config(\"spark.hadoop.fs.s3a.access.key\", \"admin\") \\\n",
    "    .config(\"spark.hadoop.fs.s3a.secret.key\", \"password\") \\\n",
    "    .config(\"spark.hadoop.fs.s3a.endpoint\", \"http://minio:9000\") \\\n",
    "    .getOrCreate()\n",
    "# Create a database\n",
    "spark.sql(\"CREATE DATABASE IF NOT EXISTS demo.nyc\")\n",
    "# Create an Iceberg table\n",
    "spark.sql(\"\"\"\n",
    "CREATE TABLE demo.nyc.taxis (\n",
    "    vendor_id BIGINT,\n",
    "    trip_id BIGINT,\n",
    "    trip_distance FLOAT,\n",
    "    fare_amount DOUBLE,\n",
    "    store_and_fwd_flag STRING\n",
    ")\n",
    "USING iceberg\n",
    "PARTITIONED BY (vendor_id)\n",
    "LOCATION 's3://warehouse/nyc/taxis'\n",
    "\"\"\")\n",
    "# Insert sample data\n",
    "spark.sql(\"\"\"\n",
    "INSERT INTO demo.nyc.taxis\n",
    "VALUES \n",
    "    (1, 1000371, 1.8, 15.32, 'N'),\n",
    "    (2, 1000372, 2.5, 22.15, 'N'),\n",
    "    (2, 1000373, 0.9, 9.01, 'N'),\n",
    "    (1, 1000374, 8.4, 42.13, 'Y')\n",
    "\"\"\")\n",
    "# Verify the data\n",
    "spark.sql(\"SELECT * FROM demo.nyc.taxis\").show()\n",
    "# Stop the Spark session\n",
    "spark.stop()"
   ]
  }
 ],
 "metadata": {
  "language_info": {
   "name": "python"
  }
 },
 "nbformat": 4,
 "nbformat_minor": 5
}

{
 "cells": [
  {
   "cell_type": "code",
   "execution_count": 11,
   "id": "d79b5333-236d-4dec-8a21-4597fe8a1ac4",
   "metadata": {},
   "outputs": [
    {
     "name": "stdout",
     "output_type": "stream",
     "text": [
      "Requirement already satisfied: pyspark in /opt/spark/python (3.5.5)\n",
      "Requirement already satisfied: pymongo in /usr/local/lib/python3.10/site-packages (4.15.0)\n",
      "Requirement already satisfied: py4j==0.10.9.7 in /usr/local/lib/python3.10/site-packages (from pyspark) (0.10.9.7)\n",
      "Requirement already satisfied: dnspython<3.0.0,>=1.16.0 in /usr/local/lib/python3.10/site-packages (from pymongo) (2.8.0)\n",
      "\u001b[33mWARNING: Running pip as the 'root' user can result in broken permissions and conflicting behaviour with the system package manager. It is recommended to use a virtual environment instead: https://pip.pypa.io/warnings/venv\u001b[0m\u001b[33m\n",
      "\u001b[0m\n",
      "\u001b[1m[\u001b[0m\u001b[34;49mnotice\u001b[0m\u001b[1;39;49m]\u001b[0m\u001b[39;49m A new release of pip is available: \u001b[0m\u001b[31;49m23.0.1\u001b[0m\u001b[39;49m -> \u001b[0m\u001b[32;49m25.2\u001b[0m\n",
      "\u001b[1m[\u001b[0m\u001b[34;49mnotice\u001b[0m\u001b[1;39;49m]\u001b[0m\u001b[39;49m To update, run: \u001b[0m\u001b[32;49mpip install --upgrade pip\u001b[0m\n",
      "Note: you may need to restart the kernel to use updated packages.\n"
     ]
    }
   ],
   "source": [
    "pip install pyspark pymongo"
   ]
  },
  {
   "cell_type": "code",
   "execution_count": 2,
   "id": "1314c907",
   "metadata": {
    "vscode": {
     "languageId": "plaintext"
    }
   },
   "outputs": [
    {
     "name": "stderr",
     "output_type": "stream",
     "text": [
      "25/09/13 04:51:22 WARN SparkSession: Using an existing Spark session; only runtime SQL configurations will take effect.\n"
     ]
    },
    {
     "name": "stdout",
     "output_type": "stream",
     "text": [
      "create or replace table mongo_imports.accounts (account_id BIGINT, name string, type string, x_loaded_at timestamp) USING iceberg \n",
      "table created\n",
      "create or replace table mongo_imports.journal_entries_lines (line_id string, entry_id string, date date, account_id BIGINT, debit float, credit float, description string) USING iceberg PARTITIONED BY (months(date))\n",
      "table created\n",
      "create or replace table mongo_imports.close_tasks (task_id string, name string, assigned_to string, status string, due_date date) USING iceberg \n",
      "table created\n"
     ]
    }
   ],
   "source": [
    "import set_up\n",
    "set_up.main()\n"
   ]
  },
  {
   "cell_type": "code",
   "execution_count": 3,
   "id": "e087ba50-ea42-4f45-9761-06990180021b",
   "metadata": {},
   "outputs": [
    {
     "name": "stdout",
     "output_type": "stream",
     "text": [
      "new logic\n",
      "['accounting_db', 'admin', 'config', 'local']\n",
      "Connection to MongoDB successful!\n",
      "data added\n"
     ]
    }
   ],
   "source": [
    "import mongo_access as ma\n",
    "ma.main()"
   ]
  }
 ],
 "metadata": {
  "kernelspec": {
   "display_name": "Python 3 (ipykernel)",
   "language": "python",
   "name": "python3"
  },
  "language_info": {
   "codemirror_mode": {
    "name": "ipython",
    "version": 3
   },
   "file_extension": ".py",
   "mimetype": "text/x-python",
   "name": "python",
   "nbconvert_exporter": "python",
   "pygments_lexer": "ipython3",
   "version": "3.10.16"
  }
 },
 "nbformat": 4,
 "nbformat_minor": 5
}

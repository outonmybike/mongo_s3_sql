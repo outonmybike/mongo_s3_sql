{
 "cells": [
  {
   "cell_type": "code",
   "execution_count": null,
   "id": "66b95c4c",
   "metadata": {
    "vscode": {
     "languageId": "plaintext"
    }
   },
   "outputs": [],
   "source": [
    "from datetime import datetime\n",
    "\n",
    "sql_1 = \"CREATE DATABASE IF NOT EXISTS climate;\"\n",
    "sql_2 = \"\"\"CREATE TABLE IF NOT EXISTS climate.weather (\n",
    "    datetime              timestamp,\n",
    "    temp                  double,\n",
    "    lat                   double,\n",
    "    long                  double,\n",
    "    cloud_coverage        string,\n",
    "    precip                double,\n",
    "    wind_speed            double\n",
    ")\n",
    "USING iceberg\n",
    "PARTITIONED BY (days(datetime))\n",
    ";\"\"\"\n",
    "\n",
    "result_1 = spark.sql(sql_1)\n",
    "\n",
    "result_2 = spark.sql(sql_2)\n",
    "\n",
    "\n",
    "schema = spark.table(\"climate.weather\").schema\n",
    "\n",
    "data = [\n",
    "(datetime(2023,8,16), 76.2, 40.951908, -74.075272, \"Partially sunny\", 0.0, 3.5),\n",
    "(datetime(2023,8,17), 82.5, 40.951908, -74.075272, \"Sunny\", 0.0, 1.2),\n",
    "(datetime(2023,8,18), 70.9, 40.951908, -74.075272, \"Cloudy\", .5, 5.2)\n",
    "]\n",
    "\n",
    "df = spark.createDataFrame(data, schema)\n",
    "df.writeTo(\"climate.weather\").append()"
   ]
  }
 ],
 "metadata": {
  "language_info": {
   "name": "python"
  }
 },
 "nbformat": 4,
 "nbformat_minor": 5
}
